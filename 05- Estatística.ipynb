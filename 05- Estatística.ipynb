{
 "cells": [
  {
   "cell_type": "markdown",
   "id": "46984604-1381-4151-a086-9e6202654a7d",
   "metadata": {},
   "source": [
    "## Tendencias Centrais\n",
    "### Média"
   ]
  },
  {
   "cell_type": "code",
   "execution_count": 3,
   "id": "97e58853-ab29-4a1b-b303-540a5b7dce38",
   "metadata": {},
   "outputs": [],
   "source": [
    "from typing import List\n",
    "\n",
    "def mean (xs: List[float]) -> float:\n",
    "    return sum(xs) / len(xs)"
   ]
  }
 ],
 "metadata": {
  "kernelspec": {
   "display_name": "Python 3 (ipykernel)",
   "language": "python",
   "name": "python3"
  },
  "language_info": {
   "codemirror_mode": {
    "name": "ipython",
    "version": 3
   },
   "file_extension": ".py",
   "mimetype": "text/x-python",
   "name": "python",
   "nbconvert_exporter": "python",
   "pygments_lexer": "ipython3",
   "version": "3.11.9"
  }
 },
 "nbformat": 4,
 "nbformat_minor": 5
}
