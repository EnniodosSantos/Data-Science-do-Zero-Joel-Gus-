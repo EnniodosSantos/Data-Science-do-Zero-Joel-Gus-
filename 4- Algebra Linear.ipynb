{
 "cells": [
  {
   "cell_type": "markdown",
   "id": "bfa1b244-3106-4117-ba96-80cd500b62b0",
   "metadata": {},
   "source": [
    "## Vetores\n",
    "Vetores são objetos com direção, modulo e sentido, que podem ser somados ou multiplicados por escalares para formar outros vetores\n",
    "\n",
    "Vetores são pontos em um espaço de dimensão finita\n",
    "\n",
    "Vetores são ótimos para representar dados numéricos. Por Exemplo:\n",
    "\n",
    "alturas, pesos e idades de uma pessoa pode ser representado por um vetor tridimensional [heigth, weight, age]\n",
    "Conjuntos de notas de um aluno pode ser representado por um vetor quadridimensional [nota 1, nota 2, nota 3, nota 4]"
   ]
  },
  {
   "cell_type": "markdown",
   "id": "95d2e779-5108-4cab-bac9-d9935cec8af3",
   "metadata": {},
   "source": [
    "### Implementando em Python\n",
    "A forma mais simples de representar vetores na computação é como uma lista de números. Uma lista de três números é um vetor em um espaço tridimensional, por exemplo.\n",
    "\n",
    "Vamos usar um alias de tipo para dizer que um Vetor é uma lista de números."
   ]
  },
  {
   "cell_type": "code",
   "execution_count": 2,
   "id": "4fbaa255-8d6b-4dc5-86dd-64bb371c9ee2",
   "metadata": {},
   "outputs": [],
   "source": [
    "from typing import List\n",
    "Vector = List[float]\n",
    "\n",
    "height_weigth_age = [170 , 80, 30]\n",
    "notas = [9.5 , 8, 7, 6,2 ]"
   ]
  },
  {
   "cell_type": "markdown",
   "id": "c96a196e-a12b-4561-a8ce-9ae714a14ff6",
   "metadata": {},
   "source": [
    "### Operações com Vetores\n",
    "Existem alguma operações com vetores que podemos fazer na álgebra linear. Fazer esses cálculos com listas em Python não é muito simples, até porque listas não são vetores, só usamos listas para facilitar a compreensão. Vamos construir as ferramentas aritméticas para realizar essas operações\n",
    "\n",
    "#### i — Soma de Vetores\n",
    "Para somar dois vetores precisamos somar cada componente para obtermos o vetor soma, no entanto os vetores devem ter o mesmo tamanho\n",
    "\n",
    "Exemplo:"
   ]
  },
  {
   "cell_type": "markdown",
   "id": "da22a07d-6e30-4556-b578-334e3e3e5280",
   "metadata": {},
   "source": [
    "v = [1 , 2 ] e w= [2, 1]\n",
    "\n",
    "v + w = [ 1+2 , 2+1 ]\n",
    "\n",
    "v + w = [3, 3]"
   ]
  },
  {
   "cell_type": "code",
   "execution_count": 3,
   "id": "89e16667-afd0-4a18-b26f-8bb4374453ed",
   "metadata": {},
   "outputs": [],
   "source": [
    "def add(v: Vector, w: Vector) -> Vector:\n",
    "    assert len(v) == len(w)\n",
    "    return [v_i + w_i for v_i, w_i in zip(v, w)]"
   ]
  },
  {
   "cell_type": "markdown",
   "id": "29534a7a-214f-4028-acae-275cd1517b7c",
   "metadata": {},
   "source": [
    "A função zip() retorna um objeto zip, que é um iterador de tuplas onde o primeiro item em cada iterador passado é pareado, e então o segundo item em cada iterador passado é pareado etc.\n",
    "\n",
    "O mesmo se aplica para subtrações."
   ]
  },
  {
   "cell_type": "code",
   "execution_count": 4,
   "id": "f0e96f63-621e-4040-86aa-2d36a54b727e",
   "metadata": {},
   "outputs": [],
   "source": [
    "def subtract(v: Vector, w: Vector) -> Vector:\n",
    "    assert len(v) == len(w)\n",
    "    return[v_i - w_i for v_i, w_i in zip(v, w)]"
   ]
  },
  {
   "cell_type": "markdown",
   "id": "565a7f93-ef8c-40dd-80fb-029f8fa82cb6",
   "metadata": {},
   "source": [
    "As vezes precisamos somar mais de dois vetores, as vezes uma lista de vetores então devemos fazer:"
   ]
  },
  {
   "cell_type": "code",
   "execution_count": 5,
   "id": "9c2ba973-8188-4fa6-83e7-6f83aa821ce2",
   "metadata": {},
   "outputs": [],
   "source": [
    "def vector_sum(vectors: List[Vector]) -> Vector:\n",
    "    #verifica se estão vazios\n",
    "    assert vetores\n",
    "\n",
    "    #verfica se os vetores tem o mesmo tamanho\n",
    "    num_elements = len(vectors[0])\n",
    "    assert all(len(v) == num_elements for v in vetores) #\"different sizes\"\n",
    "\n",
    "    return[sum(vector[i] for vector in vectors)\n",
    "        for i in range(num_elements)]"
   ]
  },
  {
   "cell_type": "markdown",
   "id": "07f8b0fa-c4c7-47b9-9e79-420d21226e8f",
   "metadata": {},
   "source": [
    "#### ii — Multiplicação por escalar\n",
    "\n",
    "Para multiplicar por um escalar, basta multiplicar cada elemento pelo numero em questão"
   ]
  },
  {
   "cell_type": "code",
   "execution_count": 6,
   "id": "b1257ae6-395e-4445-8f38-7ee6282b4411",
   "metadata": {},
   "outputs": [],
   "source": [
    "def scalar_multiply(c: float, v: Vector) -> Vector:\n",
    "\n",
    "  return [c * v_i for v_i in v]"
   ]
  },
  {
   "cell_type": "markdown",
   "id": "decaa990-ce7c-4f98-9ad7-b57d3e53d219",
   "metadata": {},
   "source": [
    "Uma das aplicações é que podemos calcular a média dos componentes de uma lista de vetores (do mesmo tamanho), por exemplo a média da classe inteira em uma avaliação tendo uma lista de vetores com os valores das notas dos alunos\n",
    "\n"
   ]
  },
  {
   "cell_type": "code",
   "execution_count": 7,
   "id": "02073a9b-5bae-4293-a4f5-5fc8476bbdb6",
   "metadata": {},
   "outputs": [],
   "source": [
    "def vector_mean(vectors: List[Vector]) -> Vector:\n",
    "    n = len(vectors)\n",
    "    return scalar_multiply(1/n, vetor_soma(vetores))"
   ]
  },
  {
   "cell_type": "markdown",
   "id": "be949db1-9149-4b21-9fd9-33ed7f8b7699",
   "metadata": {},
   "source": [
    "#### iii — Produto Escalar\n",
    "O produto escalar de dois vetores é a soma dos produtos por componente\n"
   ]
  },
  {
   "cell_type": "code",
   "execution_count": 8,
   "id": "0f1872bb-df86-4783-b313-3fe33c3f4f59",
   "metadata": {},
   "outputs": [],
   "source": [
    "def dot(v: Vector, w: Vector) -> float:\n",
    "    assert len(v) == len(w)\n",
    "    return sum(v_i * w_i for v_i, w_i in zip(v,w))"
   ]
  },
  {
   "cell_type": "markdown",
   "id": "ebbdc996-6758-48fe-a0a6-c40172ac2fe8",
   "metadata": {},
   "source": [
    "Assim é fácil calcula a soma dos quadrados de um vetor"
   ]
  },
  {
   "cell_type": "code",
   "execution_count": 9,
   "id": "fdacceed-f82b-4780-826e-778160785d2e",
   "metadata": {},
   "outputs": [],
   "source": [
    "def sum_of_squares(v: Vector) -> float:\n",
    "    return dot(v, v)"
   ]
  },
  {
   "cell_type": "markdown",
   "id": "5eeb9492-6d93-4186-84bf-0706cea8f071",
   "metadata": {},
   "source": [
    "#### iv — Módulo ou Magnitude\n",
    "Podemos usar a soma dos quadrados para calcular a magnitude ou módulo de um vetor só fazendo a raiz quadrada desse resultado:"
   ]
  },
  {
   "cell_type": "code",
   "execution_count": 11,
   "id": "72bc9fa4-ab51-49c9-bf09-60db446b183b",
   "metadata": {},
   "outputs": [],
   "source": [
    "import math\n",
    "\n",
    "def magnitude(v: Vector) -> float:\n",
    "\n",
    "  return math.sqrt(sum_of_squares(v))"
   ]
  },
  {
   "cell_type": "markdown",
   "id": "3571202f-1ab1-4386-897f-0ad156ec767c",
   "metadata": {},
   "source": [
    "#### v- Distancia\n",
    "Para finalizar, agora que temos tudo, podemos calcular a distancia entre dois vetores, definida como :"
   ]
  },
  {
   "cell_type": "code",
   "execution_count": 15,
   "id": "79d1382e-61e7-45c2-9a9d-e2395181585f",
   "metadata": {},
   "outputs": [],
   "source": [
    "def squared_distance(v: Vector, w: Vector) -> float:\n",
    "  return sum_of_squares(subtract(v,w))\n",
    "\n",
    "def distance(v: Vector,w: Vector) -> float:\n",
    "    return math.sqrt(squared_distance(v,w))\n",
    "\n",
    "#ou facilitando\n",
    "\n",
    "def distance(v: Vector,w: Vector) -> float:\n",
    "  return magnitude(subtracao(v,w))"
   ]
  }
 ],
 "metadata": {
  "kernelspec": {
   "display_name": "Python 3 (ipykernel)",
   "language": "python",
   "name": "python3"
  },
  "language_info": {
   "codemirror_mode": {
    "name": "ipython",
    "version": 3
   },
   "file_extension": ".py",
   "mimetype": "text/x-python",
   "name": "python",
   "nbconvert_exporter": "python",
   "pygments_lexer": "ipython3",
   "version": "3.11.9"
  }
 },
 "nbformat": 4,
 "nbformat_minor": 5
}
