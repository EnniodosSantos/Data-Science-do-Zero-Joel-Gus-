{
 "cells": [
  {
   "cell_type": "markdown",
   "id": "a1ae8b0c-b8fb-42bb-90b8-6f08cad272d5",
   "metadata": {},
   "source": [
    "# Regressão Linear Simples\n",
    "\n",
    "## Modelo\n",
    "\n",
    "Quando os dados de duas variáveis tem uma relação linear muito forte podemos criar um modelo linear\n",
    "\n",
    "$Y_i = {\\beta}x_i + \\alpha +\\epsilon_i$\n",
    "\n",
    "Para preparar o modelo devemos presumir as constantes $\\alpha$ e $\\beta$"
   ]
  },
  {
   "cell_type": "code",
   "execution_count": 2,
   "id": "3b35078b-5542-4de5-9721-42c08e37fbb5",
   "metadata": {},
   "outputs": [],
   "source": [
    "def predict(alpha: float, beta: float, x_i: float) -> float:\n",
    "    return (beta * x_i) + alpha"
   ]
  },
  {
   "cell_type": "markdown",
   "id": "ff32a404-d7cb-4875-8aec-ad45f6ff2417",
   "metadata": {},
   "source": [
    "Definição do erro\n",
    "\n",
    "O erro prever ${\\beta}x_i + \\alpha$ quando o valor real é $y_i$"
   ]
  },
  {
   "cell_type": "code",
   "execution_count": 3,
   "id": "1af4e1a3-c921-4c01-b387-9bf1a2a04d23",
   "metadata": {},
   "outputs": [],
   "source": [
    "def erro (alpha: float, beta: float, x_i: float, y_i: float) -> float:\n",
    "    return predict(alpha, beta, x_i)- y_i"
   ]
  },
  {
   "cell_type": "markdown",
   "id": "e250ca47-6338-4d0c-bce7-8fe8f72680cc",
   "metadata": {},
   "source": [
    "De fato é melhor determinar o erro total no conjunto de dados. Mas não basta somar os erros, pois se a previsão para x_1 for muito alta a previsão para x_2 for muito baixa , talvez os erros se anulem\n",
    "\n",
    "Em vez disso somaremos os erros quadráticos"
   ]
  },
  {
   "cell_type": "code",
   "execution_count": 6,
   "id": "5abb5b84-6a97-4392-8663-928bdb7bba77",
   "metadata": {},
   "outputs": [],
   "source": [
    "from typing import List\n",
    "\n",
    "Vector = List[float]\n",
    "\n",
    "def sum_of_sqerro(alpha: float, beta: float, x: Vector, y: Vector) -> float:\n",
    "    return sum(error(alpha, beta, x_i, y_i)**2\n",
    "               for x_i, y_i in zip(x, y))"
   ]
  },
  {
   "cell_type": "markdown",
   "id": "04a7e71c-bd83-4475-b0dd-28bdc0adac6b",
   "metadata": {},
   "source": [
    "Nesse caso (zip(x, y)), ele serve para percorrer os vetores x e y ao mesmo tempo, pegando cada par (x_i, y_i) para calcular o erro quadrático.\n",
    "\n",
    "## Solução dos Minimos Quadrados\n",
    "\n",
    "Consiste em escolher o aplha e o beta de modo que o sum_of_sqerro seja o menor possivel"
   ]
  },
  {
   "cell_type": "code",
   "execution_count": 7,
   "id": "e7c5382d-7ea7-4bed-8049-535c4dba7be2",
   "metadata": {},
   "outputs": [],
   "source": [
    "from typing import Tuple\n",
    "import statistics as sts\n",
    "\n",
    "def correlation(x: Vector, y: Vector) -> float:\n",
    "    return statistics.correlation(x, y)\n",
    "\n",
    "def standard_deviation(v: Vector) -> float:\n",
    "    return statistics.pstdev(v)  # ou stdev(v), depende se quer populacional ou amostral\n",
    "\n",
    "def mean(v: Vector) -> float:\n",
    "    return statistics.mean(v)\n",
    "\n",
    "def least_squares_fit(x: Vector, y: Vector) -> Tuple[float, float]:\n",
    "    beta = correlation(x, y) * standard_deviation(y) / standard_deviation(x)\n",
    "    alpha = mean(y) - beta * mean(x)\n",
    "    return alpha, beta"
   ]
  }
 ],
 "metadata": {
  "kernelspec": {
   "display_name": "Python 3 (ipykernel)",
   "language": "python",
   "name": "python3"
  },
  "language_info": {
   "codemirror_mode": {
    "name": "ipython",
    "version": 3
   },
   "file_extension": ".py",
   "mimetype": "text/x-python",
   "name": "python",
   "nbconvert_exporter": "python",
   "pygments_lexer": "ipython3",
   "version": "3.11.9"
  }
 },
 "nbformat": 4,
 "nbformat_minor": 5
}
