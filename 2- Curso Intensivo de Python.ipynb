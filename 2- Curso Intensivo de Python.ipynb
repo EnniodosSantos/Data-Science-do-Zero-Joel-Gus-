{
 "cells": [
  {
   "cell_type": "markdown",
   "id": "51e37553-78ac-4303-bcdb-bcc37c337a29",
   "metadata": {},
   "source": [
    "## Formatação de Espaço em Branco"
   ]
  },
  {
   "cell_type": "code",
   "execution_count": null,
   "id": "3793069c-94b0-4a64-b1a2-87d912959cbd",
   "metadata": {},
   "outputs": [],
   "source": []
  },
  {
   "cell_type": "markdown",
   "id": "177f6aeb-536d-4470-8da1-916ec7e67b37",
   "metadata": {},
   "source": [
    "## Módulos"
   ]
  },
  {
   "cell_type": "code",
   "execution_count": null,
   "id": "e4517e27-3144-4ae0-a61c-0e20ac063122",
   "metadata": {},
   "outputs": [],
   "source": []
  },
  {
   "cell_type": "markdown",
   "id": "0ffcf5d4-a557-4bc6-b18a-1dded1599a92",
   "metadata": {},
   "source": [
    "## Funções"
   ]
  },
  {
   "cell_type": "code",
   "execution_count": null,
   "id": "12c92b1f-4eec-4740-b84a-801eb582381e",
   "metadata": {},
   "outputs": [],
   "source": []
  },
  {
   "cell_type": "markdown",
   "id": "f6660dbf-9680-4d60-9bd4-e44af3c3431d",
   "metadata": {},
   "source": [
    "## Strings (Cadeias de Caracteres)"
   ]
  },
  {
   "cell_type": "code",
   "execution_count": null,
   "id": "60cdde78-b857-49a8-b26a-5820125bf315",
   "metadata": {},
   "outputs": [],
   "source": []
  },
  {
   "cell_type": "markdown",
   "id": "1a227252-b30c-4f64-acc6-2e189a30d885",
   "metadata": {},
   "source": [
    "## Exceções"
   ]
  },
  {
   "cell_type": "code",
   "execution_count": null,
   "id": "004e8862-e1aa-4e60-b658-17a1db6076b9",
   "metadata": {},
   "outputs": [],
   "source": []
  },
  {
   "cell_type": "markdown",
   "id": "f9f2e7de-e801-4371-9064-6c83e0b2ba71",
   "metadata": {},
   "source": [
    "## Listas"
   ]
  },
  {
   "cell_type": "code",
   "execution_count": null,
   "id": "365a8b2f-f3df-42e9-8086-2db40f20e179",
   "metadata": {},
   "outputs": [],
   "source": []
  },
  {
   "cell_type": "markdown",
   "id": "0a2cb7f0-9989-4c22-9ad7-fd3def69efd4",
   "metadata": {},
   "source": [
    "## Tuplas"
   ]
  },
  {
   "cell_type": "code",
   "execution_count": null,
   "id": "ff482747-a54f-45de-9941-524f1e1e8cdc",
   "metadata": {},
   "outputs": [],
   "source": []
  },
  {
   "cell_type": "markdown",
   "id": "f40cad85-5bfd-4199-bd21-44b8d9d5c751",
   "metadata": {},
   "source": [
    "## Dicionários"
   ]
  },
  {
   "cell_type": "code",
   "execution_count": null,
   "id": "38eea114-cb57-4482-8b9b-1d4fd6df16ba",
   "metadata": {},
   "outputs": [],
   "source": []
  },
  {
   "cell_type": "markdown",
   "id": "f007393a-3366-4dcf-b617-018e2376ea73",
   "metadata": {},
   "source": [
    "### defaultidict"
   ]
  },
  {
   "cell_type": "code",
   "execution_count": null,
   "id": "9ce047d7-913c-4c2d-bf24-d2520d475f16",
   "metadata": {},
   "outputs": [],
   "source": []
  },
  {
   "cell_type": "markdown",
   "id": "1b9f4cce-c942-4aca-8ca4-5fedacce4a24",
   "metadata": {},
   "source": [
    "## Contadores"
   ]
  },
  {
   "cell_type": "code",
   "execution_count": null,
   "id": "371130db-e068-4651-85db-b1fc6fa62330",
   "metadata": {},
   "outputs": [],
   "source": []
  },
  {
   "cell_type": "markdown",
   "id": "a6e17bac-9f23-4910-a9bd-529b54f94869",
   "metadata": {},
   "source": [
    "## Conjuntos"
   ]
  },
  {
   "cell_type": "code",
   "execution_count": null,
   "id": "4ad7e845-25e9-4311-8d94-7cfeba2901e6",
   "metadata": {},
   "outputs": [],
   "source": []
  },
  {
   "cell_type": "markdown",
   "id": "08f17d67-0098-4e07-9f66-109a39c6ae01",
   "metadata": {},
   "source": [
    "## Fluxo de Controle"
   ]
  },
  {
   "cell_type": "code",
   "execution_count": null,
   "id": "3013489a-8edd-40ad-b10c-767cbf6a3b91",
   "metadata": {},
   "outputs": [],
   "source": []
  },
  {
   "cell_type": "markdown",
   "id": "e8eeffa8-9414-4d01-9c66-203a50bb1abc",
   "metadata": {},
   "source": [
    "## Veracidade"
   ]
  },
  {
   "cell_type": "code",
   "execution_count": null,
   "id": "413ab2be-98c8-47d2-b8c1-026a7e18136f",
   "metadata": {},
   "outputs": [],
   "source": []
  },
  {
   "cell_type": "markdown",
   "id": "5565a20c-c2f4-445a-a91b-b5f0b0d760df",
   "metadata": {},
   "source": [
    "## Classificação"
   ]
  },
  {
   "cell_type": "code",
   "execution_count": null,
   "id": "b01b25fa-2f2c-42d9-be3c-88bacdf5668a",
   "metadata": {},
   "outputs": [],
   "source": []
  },
  {
   "cell_type": "markdown",
   "id": "8fc8f6b2-8497-4f2b-b783-4e6de5f8a416",
   "metadata": {},
   "source": [
    "## Compreensões de Listas"
   ]
  },
  {
   "cell_type": "code",
   "execution_count": null,
   "id": "b6535160-0ba5-4885-82ca-974cadda39f5",
   "metadata": {},
   "outputs": [],
   "source": []
  },
  {
   "cell_type": "markdown",
   "id": "b8143043-3a88-4aa5-aa70-b29fb738c96d",
   "metadata": {},
   "source": [
    "## Testes Automatizados e asserção"
   ]
  },
  {
   "cell_type": "code",
   "execution_count": null,
   "id": "4505769b-4042-437e-b32c-31f670f777a3",
   "metadata": {},
   "outputs": [],
   "source": []
  },
  {
   "cell_type": "markdown",
   "id": "1d1b8061-ffed-40ed-bd51-0599d61ec9db",
   "metadata": {},
   "source": [
    "## Programação Orientada a Objetos"
   ]
  },
  {
   "cell_type": "code",
   "execution_count": null,
   "id": "9b8ffbd1-408a-44d3-b925-66eae50e0c40",
   "metadata": {},
   "outputs": [],
   "source": []
  },
  {
   "cell_type": "markdown",
   "id": "d8853b0d-e968-4496-b968-2249a608cd99",
   "metadata": {},
   "source": [
    "## Iteráveis e Geradores"
   ]
  },
  {
   "cell_type": "code",
   "execution_count": null,
   "id": "3d696723-2a32-43d1-88ad-6fcacce547ff",
   "metadata": {},
   "outputs": [],
   "source": []
  },
  {
   "cell_type": "markdown",
   "id": "85055047-9f5d-40b8-9612-9a1e2cdccac2",
   "metadata": {},
   "source": [
    "## Aleatoriedade"
   ]
  },
  {
   "cell_type": "code",
   "execution_count": null,
   "id": "ee5b2ffb-ede0-4935-8752-6d50feb0c199",
   "metadata": {},
   "outputs": [],
   "source": []
  },
  {
   "cell_type": "markdown",
   "id": "257e3447-7e26-40f4-9ab7-4535270871fa",
   "metadata": {},
   "source": [
    "## Expressões Regulares"
   ]
  },
  {
   "cell_type": "code",
   "execution_count": null,
   "id": "5bdb481f-237a-4dc2-afc4-a25305bc6420",
   "metadata": {},
   "outputs": [],
   "source": []
  },
  {
   "cell_type": "markdown",
   "id": "895b88f3-c0fa-48a9-807d-2de0a549b68d",
   "metadata": {},
   "source": [
    "## Programação Funcional"
   ]
  },
  {
   "cell_type": "markdown",
   "id": "d202a20f-7e10-41f0-a921-489fa2abdb02",
   "metadata": {},
   "source": [
    "### zip e Descompactação de Argumento"
   ]
  },
  {
   "cell_type": "markdown",
   "id": "3efb7ed3-3e52-451b-affc-c4222f5e4d06",
   "metadata": {},
   "source": [
    "### args e kwards"
   ]
  }
 ],
 "metadata": {
  "kernelspec": {
   "display_name": "Python 3 (ipykernel)",
   "language": "python",
   "name": "python3"
  },
  "language_info": {
   "codemirror_mode": {
    "name": "ipython",
    "version": 3
   },
   "file_extension": ".py",
   "mimetype": "text/x-python",
   "name": "python",
   "nbconvert_exporter": "python",
   "pygments_lexer": "ipython3",
   "version": "3.11.9"
  }
 },
 "nbformat": 4,
 "nbformat_minor": 5
}
