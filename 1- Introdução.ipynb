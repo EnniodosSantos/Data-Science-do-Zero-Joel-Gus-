{
 "cells": [
  {
   "cell_type": "markdown",
   "id": "ea9e0429-569b-419c-896f-8b5bdea9a653",
   "metadata": {},
   "source": [
    "# Motivação Hipotética: DataSciencester\n",
    "\n",
    "## Encontrando Conectores-Chave\n",
    "\n",
    "Dados de usuários e dados de amizades\n"
   ]
  },
  {
   "cell_type": "code",
   "execution_count": 3,
   "id": "38d578fe-f4de-4e6b-9c16-4c4fdd9963cc",
   "metadata": {},
   "outputs": [],
   "source": [
    "users = [ \n",
    "    {\"id\": 0, \"name\": \"Hero\"},\n",
    "    {\"id\": 1, \"name\": \"Dunn\"},\n",
    "    {\"id\": 2, \"name\": \"Sue\"},\n",
    "    {\"id\": 3, \"name\": \"Chi\"},\n",
    "    {\"id\": 4, \"name\": \"Thor\"},\n",
    "    {\"id\": 5, \"name\": \"Clive\"},\n",
    "    {\"id\": 6, \"name\": \"Hicks\"},\n",
    "    {\"id\": 7, \"name\": \"Devin\"},\n",
    "    {\"id\": 8, \"name\": \"Kate\"},\n",
    "    {\"id\": 9, \"name\": \"Klein\"}]\n",
    "\n",
    "friendship_pairs = [(0,1), (0,2), (1,2), (1,3), (2,3), (3,4), (4,5), (5,6), (5,7), (6,8), (7,8), (8,9)]\n",
    "\n",
    "    "
   ]
  },
  {
   "cell_type": "markdown",
   "id": "8b370aef-40b6-4688-a574-39624e79a297",
   "metadata": {},
   "source": [
    "Criaremos um dict para pesquisar uma amizade mais rapidamente"
   ]
  },
  {
   "cell_type": "code",
   "execution_count": 4,
   "id": "8cee416c-4b09-4236-b639-97c1c6b7d350",
   "metadata": {},
   "outputs": [],
   "source": [
    "friendships = {user[\"id\"] : [] for user in users}\n",
    "\n",
    "for i,j in friendship_pairs:\n",
    "\n",
    "    friendships[i].append(j)\n",
    "    friendships[j].append(i)"
   ]
  },
  {
   "cell_type": "markdown",
   "id": "acd77770-1346-4666-ab27-da2b06b00897",
   "metadata": {},
   "source": [
    "### Número Total de Conexões"
   ]
  },
  {
   "cell_type": "code",
   "execution_count": 5,
   "id": "fba4c538-0ad1-4133-9f1a-c5516ce32946",
   "metadata": {},
   "outputs": [],
   "source": [
    "def number_of_friends(user):\n",
    "    user_id = user[\"id\"]\n",
    "    friends_ids = friendships[user_id]\n",
    "    return len(friends_ids)\n",
    "\n",
    "total_connections = sum(number_of_friends(user) for user in users)"
   ]
  },
  {
   "cell_type": "code",
   "execution_count": 6,
   "id": "87c8e957-7fe2-4b2e-bae6-08a4656dd0d3",
   "metadata": {},
   "outputs": [
    {
     "data": {
      "text/plain": [
       "24"
      ]
     },
     "execution_count": 6,
     "metadata": {},
     "output_type": "execute_result"
    }
   ],
   "source": [
    "total_connections"
   ]
  },
  {
   "cell_type": "code",
   "execution_count": 7,
   "id": "f6f5dff4-71f1-4800-b235-18a5a528ed9f",
   "metadata": {},
   "outputs": [
    {
     "name": "stdout",
     "output_type": "stream",
     "text": [
      "10 2.4\n"
     ]
    }
   ],
   "source": [
    "num_users = len(users)\n",
    "avg_conections = total_connections / num_users\n",
    "\n",
    "print(num_users , avg_conections)"
   ]
  },
  {
   "cell_type": "code",
   "execution_count": 8,
   "id": "8dc29a78-c90b-4556-824c-b17469526479",
   "metadata": {},
   "outputs": [],
   "source": [
    "#crie uma lista (user_id, number_of_friends)\n",
    "num_friends_by_id = [(user[\"id\"], number_of_friends(user)) for user in users]\n",
    "\n",
    "num_friends_by_id.sort(key=lambda id_and_friends: id_and_friends[1], reverse = True)"
   ]
  },
  {
   "cell_type": "markdown",
   "id": "c4b4caa0-1bf7-457c-8ce5-dd91361b8687",
   "metadata": {},
   "source": [
    "### Cientistas de dados que vocẽ talvez conheça\n",
    "\n",
    "Primeira ideia é sugerir os amigos dos amigos"
   ]
  },
  {
   "cell_type": "code",
   "execution_count": 9,
   "id": "a574651a-9271-420a-8e32-fdeae937d7d8",
   "metadata": {},
   "outputs": [],
   "source": [
    "def foaf_ids_bad(user):\n",
    "    return[foaf_id \n",
    "           for friend_id in friendships[user[\"id\"]]\n",
    "           for foaf_id in friendships[friend_id]]"
   ]
  },
  {
   "cell_type": "code",
   "execution_count": 10,
   "id": "535a0a9a-ab8b-4a9c-9de7-44dc8d071516",
   "metadata": {},
   "outputs": [
    {
     "data": {
      "text/plain": [
       "[0, 2, 3, 0, 1, 3]"
      ]
     },
     "execution_count": 10,
     "metadata": {},
     "output_type": "execute_result"
    }
   ],
   "source": [
    "foaf_ids_bad(users[0])\n"
   ]
  },
  {
   "cell_type": "markdown",
   "id": "36bd5cb6-e391-4a53-8669-bdb8fa5c30d0",
   "metadata": {},
   "source": [
    "Vamos gerar uma contagem de amigos em comum, porém excluindo as pessoas que o usuário já conhece"
   ]
  },
  {
   "cell_type": "code",
   "execution_count": 11,
   "id": "0ef45c68-ffb5-477b-a6ea-efc89813d2fa",
   "metadata": {},
   "outputs": [
    {
     "name": "stdout",
     "output_type": "stream",
     "text": [
      "Counter({0: 2, 5: 1})\n"
     ]
    }
   ],
   "source": [
    "from collections import Counter\n",
    "\n",
    "def friends_of_friends(user):\n",
    "    user_id = user[\"id\"]\n",
    "    return Counter(\n",
    "        foaf_id\n",
    "        for friend_id in friendships[user_id]\n",
    "        for foaf_id in friendships[friend_id]\n",
    "        if foaf_id != user_id\n",
    "        and foaf_id not in friendships[user_id]\n",
    "    )\n",
    "\n",
    "print(friends_of_friends(users[3]))"
   ]
  },
  {
   "cell_type": "markdown",
   "id": "6ab22e08-da61-46b6-8bb9-9a818551c144",
   "metadata": {},
   "source": [
    "### Interesses"
   ]
  },
  {
   "cell_type": "code",
   "execution_count": 12,
   "id": "7c1e9fea-85e8-443d-92e9-594e2566abfe",
   "metadata": {},
   "outputs": [],
   "source": [
    "interests = [\n",
    "    (0, \"Hadoop\"), (0, \"Big Data\"), (0, \"HBase\"), (0, \"Java\"),\n",
    "    (0, \"Spark\"), (0, \"Storm\"), (0, \"Cassandra\"),\n",
    "    (1, \"NoSQL\"), (1, \"MongoDB\"), (1, \"Cassandra\"), (1, \"HBase\"),\n",
    "    (1, \"Postgres\"), \n",
    "    (2, \"Python\"), (2, \"scikit-learn\"), (2, \"scipy\"),\n",
    "    (2, \"numpy\"), (2, \"statsmodels\"), (2, \"pandas\"),\n",
    "    (3, \"R\"), (3, \"Python\"), (3, \"statistics\"), (3, \"regression\"), (3, \"probability\"),\n",
    "    (4, \"machine learning\"), (4, \"regression\"), (4, \"decision trees\"), (4, \"libsvm\"),\n",
    "    (5, \"Python\"), (5, \"R\"), (5, \"Java\"), (5, \"C++\"),\n",
    "    (5, \"Haskell\"), (5, \"programming languages\"),\n",
    "    (6, \"statistics\"), (6, \"probability\"), (6, \"mathematics\"), (6, \"theory\"),\n",
    "    (7, \"machine learning\"), (7, \"scikit-learn\"), (7, \"Mahout\"),\n",
    "    (7, \"neural networks\"),\n",
    "    (8, \"neural networks\"), (8, \"deep learning\"),\n",
    "    (8, \"Big Data\"), (8, \"artificial intelligence\"), (9, \"Hadoop\"),\n",
    "    (9, \"Java\"), (9, \"MapReduce\"), (9, \"Big Data\")\n",
    "]\n"
   ]
  },
  {
   "cell_type": "markdown",
   "id": "fa57daca-bdcc-41cb-847a-71b6eb7898f9",
   "metadata": {},
   "source": [
    "### Função Para encontrar usuários com o mesmo interesse"
   ]
  },
  {
   "cell_type": "code",
   "execution_count": 13,
   "id": "f30f3cf7-3fc5-4351-9c2a-c58eb8d50799",
   "metadata": {},
   "outputs": [],
   "source": [
    "def data_scientists_who_like(target_interest):\n",
    "    return[user_id for user_id, user_interest in interests\n",
    "           if user_interest == target_interest]"
   ]
  },
  {
   "cell_type": "markdown",
   "id": "712f3915-fcf5-40f5-afa9-2e605be6c13e",
   "metadata": {},
   "source": [
    "##### Indice Interesse para Usuário"
   ]
  },
  {
   "cell_type": "code",
   "execution_count": 14,
   "id": "c660563f-5739-4e39-b048-23af52402532",
   "metadata": {},
   "outputs": [],
   "source": [
    "from collections import defaultdict\n",
    "\n",
    "user_ids_by_interest = defaultdict(list)\n",
    "\n",
    "for user_id, interest in interests:\n",
    "    user_ids_by_interest[interest].append(user_id)"
   ]
  },
  {
   "cell_type": "markdown",
   "id": "ae086794-7f42-4eda-a09a-dbb102eeb53e",
   "metadata": {},
   "source": [
    "##### Indice Usuário por interesse"
   ]
  },
  {
   "cell_type": "code",
   "execution_count": 15,
   "id": "34df8c06-0ab7-4401-a07a-ca83fae50d1a",
   "metadata": {},
   "outputs": [],
   "source": [
    "interests_by_user_id = defaultdict(list)\n",
    "\n",
    "for user_id, interest in interests:\n",
    "    interests_by_user_id[user_id].append(interest)"
   ]
  },
  {
   "cell_type": "code",
   "execution_count": 16,
   "id": "18efb72e-7560-4040-8903-327317f74e0b",
   "metadata": {},
   "outputs": [],
   "source": [
    "def most_common_interests_with(user):\n",
    "    return Counter(\n",
    "        interested_user_id\n",
    "        for interest in interests_by_user_id[user[\"id\"]]\n",
    "        for interested_user_id in user_ids_by_interest[interest]\n",
    "        if interested_user_id != user[\"id\"]\n",
    "    )"
   ]
  },
  {
   "cell_type": "markdown",
   "id": "4584a774-5075-4abc-a74d-0b269827c018",
   "metadata": {},
   "source": [
    "### Salarios e Experiencia"
   ]
  },
  {
   "cell_type": "code",
   "execution_count": 17,
   "id": "7e801ca6-25fc-4589-b657-38f65d3a64f6",
   "metadata": {},
   "outputs": [],
   "source": [
    "salaries_and_tenures = [(83000, 8.7), (88000, 8.1), \n",
    "                        (48000, 0.7), (76000, 6),\n",
    "                        (69000, 6.5), (76000 ,7.5), \n",
    "                        (60000, 2.5), (83000, 10), \n",
    "                        (48000, 1.9), (63000, 4.2)]\n"
   ]
  },
  {
   "cell_type": "code",
   "execution_count": 18,
   "id": "6351fc6d-0349-464f-b2d5-bb2fb5692368",
   "metadata": {},
   "outputs": [
    {
     "data": {
      "image/png": "[encoded data removed]",
      "text/plain": [
       "<Figure size 640x480 with 1 Axes>"
      ]
     },
     "metadata": {},
     "output_type": "display_data"
    }
   ],
   "source": [
    "from matplotlib import pyplot as plt\n",
    "\n",
    "# separando em dois vetores\n",
    "salaries = [salary for salary, tenure in salaries_and_tenures]\n",
    "tenures = [tenure for salary, tenure in salaries_and_tenures]\n",
    "\n",
    "plt.scatter(tenures, salaries)\n",
    "plt.xlabel(\"Tempo de empresa (anos)\")\n",
    "plt.ylabel(\"Salário\")\n",
    "plt.title(\"Salários vs Tempo de Empresa\")\n",
    "plt.show()"
   ]
  },
  {
   "cell_type": "code",
   "execution_count": 19,
   "id": "bfa697c7-ed39-4553-a42e-f815efa0c4ae",
   "metadata": {},
   "outputs": [],
   "source": [
    "salary_by_tenure = defaultdict(list)\n",
    "\n",
    "for salary, tenure in salaries_and_tenures:\n",
    "    salary_by_tenure[tenure].append(salary)\n",
    "\n",
    "average_salary_by_tenure = {\n",
    "    tenure: sum(salaries)/ len(salaries)\n",
    "    for tenure, salaries in salary_by_tenure.items()\n",
    "}\n",
    "    "
   ]
  },
  {
   "cell_type": "code",
   "execution_count": 21,
   "id": "bccbdeeb-a137-4d0a-9e76-fbd0a2fce8e4",
   "metadata": {},
   "outputs": [
    {
     "data": {
      "text/plain": [
       "{8.7: 83000.0,\n",
       " 8.1: 88000.0,\n",
       " 0.7: 48000.0,\n",
       " 6: 76000.0,\n",
       " 6.5: 69000.0,\n",
       " 7.5: 76000.0,\n",
       " 2.5: 60000.0,\n",
       " 10: 83000.0,\n",
       " 1.9: 48000.0,\n",
       " 4.2: 63000.0}"
      ]
     },
     "execution_count": 21,
     "metadata": {},
     "output_type": "execute_result"
    }
   ],
   "source": [
    "average_salary_by_tenure"
   ]
  },
  {
   "cell_type": "code",
   "execution_count": 22,
   "id": "579afad6-c138-4ffa-a061-2cd64c1afdf2",
   "metadata": {},
   "outputs": [],
   "source": [
    "def tenure_bucket(tenure):\n",
    "    if tenure < 2:\n",
    "        return \"menos que dois\"\n",
    "    elif tenure < 5:\n",
    "        return \"entre dois e cinco\"\n",
    "    else:\n",
    "        return \"mais que cinco\""
   ]
  },
  {
   "cell_type": "code",
   "execution_count": 23,
   "id": "b3760b3f-6774-4b69-89c4-2612b935f151",
   "metadata": {},
   "outputs": [],
   "source": [
    "# As chaves são buckets de anos de experiencia, os valores sõ as listas de salários associadas ao bucket em questão\n",
    "salary_by_tenure_bucket = defaultdict(list)\n",
    "\n",
    "for salary, tenure in salaries_and_tenures:\n",
    "    bucket = tenure_bucket(tenure)\n",
    "    salary_by_tenure_bucket[bucket].append(salary)"
   ]
  },
  {
   "cell_type": "code",
   "execution_count": 25,
   "id": "7d0aa635-fbf5-4c6d-b652-33a994a1b2fb",
   "metadata": {},
   "outputs": [],
   "source": [
    "#Finalmente computamos a média salarial de cada grupo:\n",
    "#As chaves são buckets de anos de experiencia, os valores são a média salarial do bucket em questão\n",
    "\n",
    "averagy_salary_by_bucket = {\n",
    "    tenure_bucket: sum(salaries)/len(salaries)\n",
    "    for tenure_bucket, salaries in salary_by_tenure_bucket.items()}"
   ]
  },
  {
   "cell_type": "code",
   "execution_count": 26,
   "id": "c6f2057d-9b34-4bf6-b5ab-fe05aea004fb",
   "metadata": {},
   "outputs": [
    {
     "data": {
      "text/plain": [
       "{'mais que cinco': 79166.66666666667,\n",
       " 'menos que dois': 48000.0,\n",
       " 'entre dois e cinco': 61500.0}"
      ]
     },
     "execution_count": 26,
     "metadata": {},
     "output_type": "execute_result"
    }
   ],
   "source": [
    "averagy_salary_by_bucket"
   ]
  },
  {
   "cell_type": "markdown",
   "id": "daf0381c-7178-477c-87ee-7ddb882006ab",
   "metadata": {},
   "source": [
    "### Contas Pagas"
   ]
  },
  {
   "cell_type": "code",
   "execution_count": 27,
   "id": "a29e1b86-73d3-4f32-95dd-eb6314414a51",
   "metadata": {},
   "outputs": [],
   "source": [
    "def predict_paid_or_unpaid(years_experience):\n",
    "    if years_experience < 3.0:\n",
    "        return \"paid\"\n",
    "    elif years_experience < 8.5:\n",
    "        return \"unpaid\"\n",
    "    else:\n",
    "        return \"paid\""
   ]
  },
  {
   "cell_type": "markdown",
   "id": "97b65d13-6b50-4d4d-9393-64e1c774390e",
   "metadata": {},
   "source": [
    "### Topico de Interesse"
   ]
  },
  {
   "cell_type": "code",
   "execution_count": null,
   "id": "026dabde-259c-46e8-b0af-01197f35c031",
   "metadata": {},
   "outputs": [],
   "source": []
  }
 ],
 "metadata": {
  "kernelspec": {
   "display_name": "Python 3 (ipykernel)",
   "language": "python",
   "name": "python3"
  },
  "language_info": {
   "codemirror_mode": {
    "name": "ipython",
    "version": 3
   },
   "file_extension": ".py",
   "mimetype": "text/x-python",
   "name": "python",
   "nbconvert_exporter": "python",
   "pygments_lexer": "ipython3",
   "version": "3.11.9"
  }
 },
 "nbformat": 4,
 "nbformat_minor": 5
}
