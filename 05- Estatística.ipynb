{
 "cells": [
  {
   "cell_type": "markdown",
   "id": "46984604-1381-4151-a086-9e6202654a7d",
   "metadata": {},
   "source": [
    "## Tendencias Centrais\n",
    "### Média"
   ]
  },
  {
   "cell_type": "code",
   "execution_count": 7,
   "id": "97e58853-ab29-4a1b-b303-540a5b7dce38",
   "metadata": {},
   "outputs": [],
   "source": [
    "from typing import List\n",
    "\n",
    "def mean (xs: List[float]) -> float:\n",
    "    return sum(xs) / len(xs)"
   ]
  },
  {
   "cell_type": "markdown",
   "id": "255ad275-9384-40e1-9008-60c2817582ae",
   "metadata": {},
   "source": [
    "### Mediana\n",
    "\n",
    "Existem truques nada óbvios para computar medianas de forma eficiente sem classificar os dados. Mas ta fora do escopo do livro.\n"
   ]
  },
  {
   "cell_type": "code",
   "execution_count": 8,
   "id": "1ce41d81-ab19-430b-8716-6b48a60da2a3",
   "metadata": {},
   "outputs": [],
   "source": [
    "def _median_odd(xs: List[float]) -> float:\n",
    "    return sorted(xs)[len(xs)//2]\n",
    "\n",
    "def _median_even(xs: List[float]) -> float:\n",
    "    sorted_xs = sorted(xs)\n",
    "    hi_midpoint = len(xs)//2\n",
    "    return (sorted_xs[hi_midpoint - 1] + sorted_xs[hi_midpoint]) / 2\n",
    "\n",
    "def median(v: List[float]) -> float:\n",
    "    return _median_even(v) if len(v) % 2 == 0 else _median_odd(v)\n"
   ]
  },
  {
   "cell_type": "markdown",
   "id": "b181face-e228-4452-a928-0719411c0633",
   "metadata": {},
   "source": [
    "### Quantil"
   ]
  },
  {
   "cell_type": "code",
   "execution_count": 9,
   "id": "673c2d14-d6d1-40e9-94ca-c2e074ea35b5",
   "metadata": {},
   "outputs": [],
   "source": [
    "def quantile(xs: List[float], p: float) -> float:\n",
    "    p_index = int(p * len(xs))\n",
    "    return sorted(xs)[p_index]"
   ]
  },
  {
   "cell_type": "markdown",
   "id": "4291d002-cb5c-413c-9509-52f44360b4e5",
   "metadata": {},
   "source": [
    "### Moda"
   ]
  },
  {
   "cell_type": "code",
   "execution_count": 10,
   "id": "62a7c9fa-febf-428b-811f-cb0af22895e5",
   "metadata": {},
   "outputs": [],
   "source": [
    "def mode(x: List[float]) -> List[float]:\n",
    "    max_count = max(count.values())\n",
    "    return [x_i for x_i, count in counts.items()\n",
    "    if count == max_count]"
   ]
  },
  {
   "cell_type": "markdown",
   "id": "7acf95d5-4069-48d5-8cfa-ea8afd06801e",
   "metadata": {},
   "source": [
    "## Medidas de Dispersão\n",
    "\n",
    "A dispersão expressa a medida da distribuição dos dados.\n",
    "\n",
    "Em geral, os valores proximos de zero indicam que os dados não estão espalhados e os valores maiores indicam dados muito espalhados\n",
    "\n",
    "### Amplitude\n",
    "\n",
    "A diferença entre o maior e o menor elemento"
   ]
  },
  {
   "cell_type": "code",
   "execution_count": 11,
   "id": "74917c79-34e6-42dc-bbe9-40db7efeb194",
   "metadata": {},
   "outputs": [],
   "source": [
    "def data_range(xs: List[float]) -> float:\n",
    "    return max(xs) - min(xs)"
   ]
  },
  {
   "cell_type": "markdown",
   "id": "2c368a50-c233-40d1-a1d5-3983a126251e",
   "metadata": {},
   "source": [
    "### Variância"
   ]
  },
  {
   "cell_type": "code",
   "execution_count": 16,
   "id": "04d57997-e581-41c7-ae60-6f5138f980ab",
   "metadata": {},
   "outputs": [],
   "source": [
    "from scratch.linear_algebra import sum_of_squares\n",
    "\n",
    "def de_mean(xs: List[float]) -> List[float]:\n",
    "    counts = Counter(x)\n",
    "    max_count = max(counts.values())\n",
    "    return [x_i for x_i, count in counts.items() if count == max_count]\n",
    "\n",
    "def variance(xs: List[float]) -> float:\n",
    "    assert len(xs) >= 2\n",
    "    n = len(xs)\n",
    "    deviantions = de_mean(xs)\n",
    "    return sum_of_squares(deviations) / (n - 1)"
   ]
  },
  {
   "cell_type": "markdown",
   "id": "600cdd7e-dd62-4e61-8d88-766f9dc2dfca",
   "metadata": {},
   "source": [
    "### Desvio Padrão"
   ]
  },
  {
   "cell_type": "code",
   "execution_count": 17,
   "id": "0d0ddf4b-645c-47b2-97a1-88f346b76bbe",
   "metadata": {},
   "outputs": [],
   "source": [
    "import math\n",
    "def standard_deviation(xs: List[float]) -> float:\n",
    "    return math.sqrt(variance(xs))"
   ]
  },
  {
   "cell_type": "markdown",
   "id": "d2a1c2db-7c2e-4864-840b-97188bf17233",
   "metadata": {},
   "source": [
    "## Correlação\n",
    "\n",
    "### Covariância\n",
    "\n",
    "Um tipo de variância aplicada a pares. Se a variância mede os desvio de yna variável da média, a covariância mede a variação simultânea de duas variáveis em relação às suas médias:"
   ]
  },
  {
   "cell_type": "code",
   "execution_count": 18,
   "id": "c3b8dbf7-f8aa-4e94-b847-056159db2611",
   "metadata": {},
   "outputs": [],
   "source": [
    "from scratch.linear_algebra import dot\n",
    "\n",
    "def covariance(xs: List[float], ys: List[float]) -> float:\n",
    "    assert len(xs) == len (ys)\n",
    "\n",
    "    return dot(de_mean(xs), de_mean(ys)) / (len(xs) - 1)"
   ]
  },
  {
   "cell_type": "markdown",
   "id": "535fea49-4973-40c0-8a52-6e641f75b9be",
   "metadata": {},
   "source": []
  }
 ],
 "metadata": {
  "kernelspec": {
   "display_name": "Python 3 (ipykernel)",
   "language": "python",
   "name": "python3"
  },
  "language_info": {
   "codemirror_mode": {
    "name": "ipython",
    "version": 3
   },
   "file_extension": ".py",
   "mimetype": "text/x-python",
   "name": "python",
   "nbconvert_exporter": "python",
   "pygments_lexer": "ipython3",
   "version": "3.11.9"
  }
 },
 "nbformat": 4,
 "nbformat_minor": 5
}
